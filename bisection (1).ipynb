{
  "nbformat": 4, #menunjukkan versi format file
  "nbformat_minor": 0, #menunjukkan minor vision
  "metadata": { #menyimpan informasi tambahan tentang notebook
    "colab": { #digunakan untuk menyimpan informasi spesifik terkait Google Colab.
      "provenance": [] #mencatat riwayat asal-usul
    },
    "kernelspec": { #Menentukan Kernel yang Digunakan,Memastikan Kompatibilitas
      "name": "python3",
      "display_name": "Python 3"
    },
    "language_info": { #digunakan untuk memberikan informasi tentang bahasa pemrograman yang digunakan di notebook
      "name": "python"
    }
  },
  "cells": [ #Menyimpan Konten Sel
    {
      "cell_type": "code", #Menentukan Tipe Sel
      "execution_count": null, #Menunjukkan Urutan Eksekusi
      "metadata": { #Menyediakan Informasi Tentang Repositori
        "id": "2JHVHadOtZcL" #konteks objek atau entitas tertentu
      },
      "outputs": [], #menampilkan
      "source": [ # mencari objek
        "import numpy as np" # mengimport numpi
      ]
    },
    {
      "cell_type": "code", #membuat dokumen interaktif berisi kode, teks, dan visualisasi.
      "source": [
        "def bisection(f, a, b, tol):\n",#menerapkan metode bisection (pembelahan) dalam menyelesaikan masalah numerik untuk mencari akar fungsi. 
        "\n",
        "    if np.sign(f(a)) == np.sign(f(b)):\n",#digunakan untuk memeriksa apakah 
𝑓
(
𝑎
)
f(a) dan 
𝑓
(
𝑏
)
f(b) memiliki tanda yang sama
        "        raise Exception(\n", #Menangani Kesalahan Kustom
        "         \"tidak bisa\")\n",
        "\n",
        "    m = (a + b)/2\n",
        "\n",
        "    if np.abs(f(m)) < tol:\n",
        "        return m\n",
        "    elif np.sign(f(a)) == np.sign(f(m)):\n",
        "        return bisection(f, m, b, tol)\n",
        "    elif np.sign(f(b)) == np.sign(f(m)):\n",
        "        return bisection(f, a, m, tol)"
      ],
      "metadata": {
        "id": "5_LhaSoZurtu"
      },
      "execution_count": null,
      "outputs": []
    },
    {
      "cell_type": "code",
      "source": [
        "f = lambda x: x**2 - 2\n",
        "\n",
        "r1 = my_bisection(f, 0, 2, 0.1)\n",
        "print(\"r1 =\", r1)\n",
        "r01 = my_bisection(f, 0, 2, 0.01)\n",
        "print(\"r01 =\", r01)\n",
        "\n",
        "print(\"f(r1) =\", f(r1))\n",
        "print(\"f(r01) =\", f(r01))"
      ],
      "metadata": {
        "id": "ncQT2IKYvNBk"
      },
      "execution_count": null,
      "outputs": []
    }
  ]
}
