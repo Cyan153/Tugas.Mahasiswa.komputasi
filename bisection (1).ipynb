{
  "nbformat": 4, #menunjukkan versi format file
  "nbformat_minor": 0, #menunjukkan minor vision
  "metadata": { #menyimpan informasi tambahan tentang notebook
    "colab": { #digunakan untuk menyimpan informasi spesifik terkait Google Colab.
      "provenance": [] #mencatat riwayat asal-usul
    },
    "kernelspec": { #Menentukan Kernel yang Digunakan,Memastikan Kompatibilitas
      "name": "python3",
      "display_name": "Python 3"
    },
    "language_info": { #digunakan untuk memberikan informasi tentang bahasa pemrograman yang digunakan di notebook
      "name": "python"
    }
  },
  "cells": [ #Menyimpan Konten Sel
    {
      "cell_type": "code", #Menentukan Tipe Sel
      "execution_count": null, #Menunjukkan Urutan Eksekusi
      "metadata": { #Menyediakan Informasi Tentang Repositori
        "id": "2JHVHadOtZcL" #konteks objek atau entitas tertentu
      },
      "outputs": [], #menampilkan
      "source": [ # mencari objek
        "import numpy as np" # mengimport numpi
      ]
    },
    {
      "cell_type": "code", #membuat dokumen interaktif berisi kode, teks, dan visualisasi.
      "source": [
        "def bisection(f, a, b, tol):\n",#menerapkan metode bisection (pembelahan) dalam menyelesaikan masalah numerik untuk mencari akar fungsi. 
        "\n",
        "    if np.sign(f(a)) == np.sign(f(b)):\n",#digunakan untuk memeriksa apakah 


        "        raise Exception(\n", #Menangani Kesalahan Kustom
        "         \"tidak bisa\")\n", #pesan kesalahan atau informasi kepada pengguna
        "\n",
        "    m = (a + b)/2\n", #menghitung nilai rata-rata
        "\n",
        "    if np.abs(f(m)) < tol:\n", #mencari akar persamaan 
        "        return m\n", #mengembalikan (return) nilai dari sebuah fungsi
        "    elif np.sign(f(a)) == np.sign(f(m)):\n",#pernyataan kondisional a
        "        return bisection(f, m, b, tol)\n", #mengembalikan hasil dari pemanggilan 
        "    elif np.sign(f(b)) == np.sign(f(m)):\n", #pernyataan kondisional a
        "        return bisection(f, a, m, tol)" #mengembalikan hasil dari pemanggilan 
      ],
      "metadata": { #deskriptif tentang data utama
        "id": "5_LhaSoZurtu" # menginisialisasi id
      },
      "execution_count": null, #hasilnya tidak disimpan.
      "outputs": [] #menampilkan
    },
    {
      "cell_type": "code", #membuat dokumen interaktif berisi kode, teks, dan visualisasi.
      "source": [ # mencari dokunen
        "f = lambda x: x**2 - 2\n", #menghitung nilai persamaan
        "\n",
        "r1 = my_bisection(f, 0, 2, 0.1)\n", #Memanggil Fungsi
        "print(\"r1 =\", r1)\n", #Mencetak Hasil
        "r01 = my_bisection(f, 0, 2, 0.01)\n", #Memanggil my_bisection dengan Toleransi Lebih Kecil dan menyimpan hasil
        "print(\"r01 =\", r01)\n", #Mencetak Hasil yang Lebih Akurat
        "\n",
        "print(\"f(r1) =\", f(r1))\n", #Mengevaluasi Fungsi pada Akar
        "print(\"f(r01) =\", f(r01))" #Mencetak Nilai Fungsi
      ],
      "metadata": { #deskriptif tentang data utama
        "id": "ncQT2IKYvNBk" #menginisialisasi id
      },
      "execution_count": null, # #hasilnya tidak disimpan.
      "outputs": [] # menampilkan
    }
  ]
}
